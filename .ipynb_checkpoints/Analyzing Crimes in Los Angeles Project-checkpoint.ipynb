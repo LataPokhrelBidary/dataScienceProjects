{
 "cells": [
  {
   "cell_type": "code",
   "execution_count": null,
   "id": "e44751f4",
   "metadata": {},
   "outputs": [],
   "source": [
    "Explore the crimes.csv dataset and use your findings to answer the following questions:\n",
    "\n",
    "Which hour has the highest frequency of crimes? Store as an integer variable called peak_crime_hour.\n",
    "\n",
    "Which area has the largest frequency of night crimes (crimes committed between 10pm and 3:59am)? Save as a string \n",
    "variable called peak_night_crime_location.\n",
    "\n",
    "Identify the number of crimes committed against victims by age group (0-17, 18-25, 26-34, 35-44, 45-54, 55-64, 65+).\n",
    "Save as a pandas Series called victim_ages.\n"
   ]
  },
  {
   "cell_type": "code",
   "execution_count": 1,
   "id": "7c6c3c36-5c8b-4cce-8681-95292b8f0861",
   "metadata": {
    "executionCancelledAt": null,
    "executionTime": 4364,
    "lastExecutedAt": 1692084859865,
    "lastScheduledRunId": null,
    "lastSuccessfullyExecutedCode": "# Start coding here\n# Import required libraries\nimport pandas as pd\nimport numpy as np\nimport matplotlib.pyplot as plt\nimport seaborn as sns\ncrimes = pd.read_csv(\"crimes.csv\", parse_dates=[\"Date Rptd\", \"DATE OCC\"], dtype={\"TIME OCC\": str})\ncrimes.head()",
    "outputsMetadata": {
     "0": {
      "height": 194,
      "type": "dataFrame"
     }
    }
   },
   "outputs": [
    {
     "data": {
      "application/com.datacamp.data-table.v1+json": {
       "table": {
        "data": [
         {
          "AREA NAME": "Pacific",
          "Crm Cd Desc": "THEFT FROM MOTOR VEHICLE - PETTY ($950 & UNDER)",
          "DATE OCC": "2020-11-12T00:00:00.000",
          "DR_NO": 221412410,
          "Date Rptd": "2022-06-15T00:00:00.000",
          "LOCATION": "13600    MARINA POINT                 DR",
          "Status Desc": "Invest Cont",
          "TIME OCC": "1700",
          "Vict Age": 0,
          "Vict Descent": null,
          "Vict Sex": null,
          "Weapon Desc": null,
          "index": 0
         },
         {
          "AREA NAME": "Southwest",
          "Crm Cd Desc": "THEFT OF IDENTITY",
          "DATE OCC": "2020-05-12T00:00:00.000",
          "DR_NO": 220314085,
          "Date Rptd": "2022-07-22T00:00:00.000",
          "LOCATION": "2500 S  SYCAMORE                     AV",
          "Status Desc": "Invest Cont",
          "TIME OCC": "1110",
          "Vict Age": 27,
          "Vict Descent": "B",
          "Vict Sex": "F",
          "Weapon Desc": null,
          "index": 1
         },
         {
          "AREA NAME": "Olympic",
          "Crm Cd Desc": "THEFT OF IDENTITY",
          "DATE OCC": "2020-06-04T00:00:00.000",
          "DR_NO": 222013040,
          "Date Rptd": "2022-08-06T00:00:00.000",
          "LOCATION": "3300    SAN MARINO                   ST",
          "Status Desc": "Invest Cont",
          "TIME OCC": "1620",
          "Vict Age": 60,
          "Vict Descent": "H",
          "Vict Sex": "M",
          "Weapon Desc": null,
          "index": 2
         },
         {
          "AREA NAME": "Hollywood",
          "Crm Cd Desc": "THEFT OF IDENTITY",
          "DATE OCC": "2020-08-17T00:00:00.000",
          "DR_NO": 220614831,
          "Date Rptd": "2022-08-18T00:00:00.000",
          "LOCATION": "1900    TRANSIENT",
          "Status Desc": "Invest Cont",
          "TIME OCC": "1200",
          "Vict Age": 28,
          "Vict Descent": "H",
          "Vict Sex": "M",
          "Weapon Desc": null,
          "index": 3
         },
         {
          "AREA NAME": "77th Street",
          "Crm Cd Desc": "THEFT OF IDENTITY",
          "DATE OCC": "2020-01-27T00:00:00.000",
          "DR_NO": 231207725,
          "Date Rptd": "2023-02-27T00:00:00.000",
          "LOCATION": "6200    4TH                          AV",
          "Status Desc": "Invest Cont",
          "TIME OCC": "0635",
          "Vict Age": 37,
          "Vict Descent": "H",
          "Vict Sex": "M",
          "Weapon Desc": null,
          "index": 4
         }
        ],
        "schema": {
         "fields": [
          {
           "name": "index",
           "type": "integer"
          },
          {
           "name": "DR_NO",
           "type": "integer"
          },
          {
           "name": "Date Rptd",
           "type": "datetime"
          },
          {
           "name": "DATE OCC",
           "type": "datetime"
          },
          {
           "name": "TIME OCC",
           "type": "string"
          },
          {
           "name": "AREA NAME",
           "type": "string"
          },
          {
           "name": "Crm Cd Desc",
           "type": "string"
          },
          {
           "name": "Vict Age",
           "type": "integer"
          },
          {
           "name": "Vict Sex",
           "type": "string"
          },
          {
           "name": "Vict Descent",
           "type": "string"
          },
          {
           "name": "Weapon Desc",
           "type": "string"
          },
          {
           "name": "Status Desc",
           "type": "string"
          },
          {
           "name": "LOCATION",
           "type": "string"
          }
         ],
         "pandas_version": "1.4.0",
         "primaryKey": [
          "index"
         ]
        }
       },
       "total_rows": 5,
       "truncation_type": null
      },
      "text/html": [
       "<div>\n",
       "<style scoped>\n",
       "    .dataframe tbody tr th:only-of-type {\n",
       "        vertical-align: middle;\n",
       "    }\n",
       "\n",
       "    .dataframe tbody tr th {\n",
       "        vertical-align: top;\n",
       "    }\n",
       "\n",
       "    .dataframe thead th {\n",
       "        text-align: right;\n",
       "    }\n",
       "</style>\n",
       "<table border=\"1\" class=\"dataframe\">\n",
       "  <thead>\n",
       "    <tr style=\"text-align: right;\">\n",
       "      <th></th>\n",
       "      <th>DR_NO</th>\n",
       "      <th>Date Rptd</th>\n",
       "      <th>DATE OCC</th>\n",
       "      <th>TIME OCC</th>\n",
       "      <th>AREA NAME</th>\n",
       "      <th>Crm Cd Desc</th>\n",
       "      <th>Vict Age</th>\n",
       "      <th>Vict Sex</th>\n",
       "      <th>Vict Descent</th>\n",
       "      <th>Weapon Desc</th>\n",
       "      <th>Status Desc</th>\n",
       "      <th>LOCATION</th>\n",
       "    </tr>\n",
       "  </thead>\n",
       "  <tbody>\n",
       "    <tr>\n",
       "      <th>0</th>\n",
       "      <td>221412410</td>\n",
       "      <td>2022-06-15</td>\n",
       "      <td>2020-11-12</td>\n",
       "      <td>1700</td>\n",
       "      <td>Pacific</td>\n",
       "      <td>THEFT FROM MOTOR VEHICLE - PETTY ($950 &amp; UNDER)</td>\n",
       "      <td>0</td>\n",
       "      <td>NaN</td>\n",
       "      <td>NaN</td>\n",
       "      <td>NaN</td>\n",
       "      <td>Invest Cont</td>\n",
       "      <td>13600    MARINA POINT                 DR</td>\n",
       "    </tr>\n",
       "    <tr>\n",
       "      <th>1</th>\n",
       "      <td>220314085</td>\n",
       "      <td>2022-07-22</td>\n",
       "      <td>2020-05-12</td>\n",
       "      <td>1110</td>\n",
       "      <td>Southwest</td>\n",
       "      <td>THEFT OF IDENTITY</td>\n",
       "      <td>27</td>\n",
       "      <td>F</td>\n",
       "      <td>B</td>\n",
       "      <td>NaN</td>\n",
       "      <td>Invest Cont</td>\n",
       "      <td>2500 S  SYCAMORE                     AV</td>\n",
       "    </tr>\n",
       "    <tr>\n",
       "      <th>2</th>\n",
       "      <td>222013040</td>\n",
       "      <td>2022-08-06</td>\n",
       "      <td>2020-06-04</td>\n",
       "      <td>1620</td>\n",
       "      <td>Olympic</td>\n",
       "      <td>THEFT OF IDENTITY</td>\n",
       "      <td>60</td>\n",
       "      <td>M</td>\n",
       "      <td>H</td>\n",
       "      <td>NaN</td>\n",
       "      <td>Invest Cont</td>\n",
       "      <td>3300    SAN MARINO                   ST</td>\n",
       "    </tr>\n",
       "    <tr>\n",
       "      <th>3</th>\n",
       "      <td>220614831</td>\n",
       "      <td>2022-08-18</td>\n",
       "      <td>2020-08-17</td>\n",
       "      <td>1200</td>\n",
       "      <td>Hollywood</td>\n",
       "      <td>THEFT OF IDENTITY</td>\n",
       "      <td>28</td>\n",
       "      <td>M</td>\n",
       "      <td>H</td>\n",
       "      <td>NaN</td>\n",
       "      <td>Invest Cont</td>\n",
       "      <td>1900    TRANSIENT</td>\n",
       "    </tr>\n",
       "    <tr>\n",
       "      <th>4</th>\n",
       "      <td>231207725</td>\n",
       "      <td>2023-02-27</td>\n",
       "      <td>2020-01-27</td>\n",
       "      <td>0635</td>\n",
       "      <td>77th Street</td>\n",
       "      <td>THEFT OF IDENTITY</td>\n",
       "      <td>37</td>\n",
       "      <td>M</td>\n",
       "      <td>H</td>\n",
       "      <td>NaN</td>\n",
       "      <td>Invest Cont</td>\n",
       "      <td>6200    4TH                          AV</td>\n",
       "    </tr>\n",
       "  </tbody>\n",
       "</table>\n",
       "</div>"
      ],
      "text/plain": [
       "       DR_NO  Date Rptd  ...  Status Desc                                  LOCATION\n",
       "0  221412410 2022-06-15  ...  Invest Cont  13600    MARINA POINT                 DR\n",
       "1  220314085 2022-07-22  ...  Invest Cont   2500 S  SYCAMORE                     AV\n",
       "2  222013040 2022-08-06  ...  Invest Cont   3300    SAN MARINO                   ST\n",
       "3  220614831 2022-08-18  ...  Invest Cont                         1900    TRANSIENT\n",
       "4  231207725 2023-02-27  ...  Invest Cont   6200    4TH                          AV\n",
       "\n",
       "[5 rows x 12 columns]"
      ]
     },
     "execution_count": 1,
     "metadata": {},
     "output_type": "execute_result"
    }
   ],
   "source": [
    "# Re-run this cell\n",
    "# Import required libraries\n",
    "import pandas as pd\n",
    "import numpy as np\n",
    "import matplotlib.pyplot as plt\n",
    "import seaborn as sns\n",
    "crimes = pd.read_csv(\"crimes.csv\", parse_dates=[\"Date Rptd\", \"DATE OCC\"], dtype={\"TIME OCC\": str})\n",
    "crimes.head()"
   ]
  },
  {
   "cell_type": "code",
   "execution_count": 12,
   "id": "9aaf3263",
   "metadata": {},
   "outputs": [
    {
     "data": {
      "image/png": "[encoded data removed]",
      "text/plain": [
       "<Figure size 432x288 with 1 Axes>"
      ]
     },
     "metadata": {
      "needs_background": "light"
     },
     "output_type": "display_data"
    },
    {
     "name": "stdout",
     "output_type": "stream",
     "text": [
      "The area with the largest volume of night crime is Central\n",
      "26-34    47470\n",
      "35-44    42157\n",
      "45-54    28353\n",
      "18-25    28291\n",
      "55-64    20169\n",
      "65+      14747\n",
      "0-17      4528\n",
      "Name: Age Bracket, dtype: int64\n"
     ]
    }
   ],
   "source": [
    "# Import required libraries\n",
    "import pandas as pd\n",
    "import numpy as np\n",
    "import matplotlib.pyplot as plt\n",
    "import seaborn as sns\n",
    "\n",
    "# Read in and preview the dataset\n",
    "crimes = pd.read_csv(\"crimes.csv\", parse_dates=[\"Date Rptd\", \"DATE OCC\"], dtype={\"TIME OCC\": str})\n",
    "crimes.head()\n",
    "\n",
    "## Which hour has the highest frequency of crimes? Store as an integer variable called peak_crime_hour\n",
    "\n",
    "# Extract the first two digits from \"TIME OCC\", representing the hour,\n",
    "# and convert to integer data type\n",
    "crimes[\"HOUR OCC\"] = crimes[\"TIME OCC\"].str[:2].astype(int)\n",
    "\n",
    "# Preview the DataFrame to confirm the new column is correct\n",
    "crimes.head()\n",
    "\n",
    "# Produce a countplot to find the largest frequency of crimes by hour\n",
    "sns.countplot(data=crimes, x=\"HOUR OCC\")\n",
    "plt.show()\n",
    "\n",
    "# Midday has the largest volume of crime\n",
    "peak_crime_hour = 12\n",
    "\n",
    "## Which area has the largest frequency of night crimes (crimes committed between 10pm and 3:59am)? \n",
    "## Save as a string variable called peak_night_crime_location\n",
    "# Filter for the night-time hours\n",
    "# 0 = midnight; 3 = crimes between 3am and 3:59am, i.e., don't include 4\n",
    "night_time = crimes[crimes[\"HOUR OCC\"].isin([22,23,0,1,2,3])]\n",
    "\n",
    "# Group by \"AREA NAME\" and count occurrences, filtering for the largest value and saving the \"AREA NAME\"\n",
    "peak_night_crime_location = night_time.groupby(\"AREA NAME\", as_index=False)[\"HOUR OCC\"].count().sort_values(\"HOUR OCC\", ascending=False).iloc[0][\"AREA NAME\"]\n",
    "\n",
    "# Print the peak night crime location\n",
    "print(f\"The area with the largest volume of night crime is {peak_night_crime_location}\")\n",
    "\n",
    "## Identify the number of crimes committed against victims by age group (0-17, 18-25, 26-34, 35-44, 45-54, 55-64, 65+) \n",
    "## Save as a pandas Series called victim_ages\n",
    "# Create bins and labels for victim age ranges\n",
    "age_bins = [0, 17, 25, 34, 44, 54, 64, np.inf]\n",
    "age_labels = [\"0-17\", \"18-25\", \"26-34\", \"35-44\", \"45-54\", \"55-64\", \"65+\"]\n",
    "\n",
    "# Add a new column using pd.cut() to bin values into discrete intervals\n",
    "crimes[\"Age Bracket\"] = pd.cut(crimes[\"Vict Age\"],\n",
    "                               bins=age_bins,\n",
    "                               labels=age_labels)\n",
    "\n",
    "# Find the category with the largest frequency\n",
    "victim_ages = crimes[\"Age Bracket\"].value_counts()\n",
    "print(victim_ages)"
   ]
  },
  {
   "cell_type": "code",
   "execution_count": null,
   "id": "c5fc40cc",
   "metadata": {},
   "outputs": [],
   "source": []
  }
 ],
 "metadata": {
  "colab": {
   "name": "Welcome to DataCamp Workspaces.ipynb",
   "provenance": []
  },
  "kernelspec": {
   "display_name": "Python 3",
   "language": "python",
   "name": "python3"
  },
  "language_info": {
   "codemirror_mode": {
    "name": "ipython",
    "version": 3
   },
   "file_extension": ".py",
   "mimetype": "text/x-python",
   "name": "python",
   "nbconvert_exporter": "python",
   "pygments_lexer": "ipython3",
   "version": "3.8.8"
  }
 },
 "nbformat": 4,
 "nbformat_minor": 5
}
