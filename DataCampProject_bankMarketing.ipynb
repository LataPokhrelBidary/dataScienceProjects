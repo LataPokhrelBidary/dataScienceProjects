{
 "cells": [
  {
   "cell_type": "code",
   "execution_count": null,
   "id": "60dfccf0",
   "metadata": {},
   "outputs": [],
   "source": [
    "Subset, clean, and reformat the bank_marketing.csv dataset to create and store three new files based on the \n",
    "requirements detailed in the notebook.Split and tidy bank_marketing.csv, storing as three DataFrames called \n",
    "client, campaign, and economics, each containing the columns outlined in the notebook and formatted to the \n",
    "data types listed. Save the three DataFrames to csv files, without an index, as client.csv, campaign.csv, and \n",
    "economics.csv respectively. "
   ]
  },
  {
   "cell_type": "code",
   "execution_count": 2,
   "id": "fd588b1b",
   "metadata": {},
   "outputs": [
    {
     "name": "stdout",
     "output_type": "stream",
     "text": [
      "<class 'pandas.core.frame.DataFrame'>\n",
      "RangeIndex: 41188 entries, 0 to 41187\n",
      "Data columns (total 16 columns):\n",
      " #   Column                      Non-Null Count  Dtype  \n",
      "---  ------                      --------------  -----  \n",
      " 0   client_id                   41188 non-null  int64  \n",
      " 1   age                         41188 non-null  int64  \n",
      " 2   job                         41188 non-null  object \n",
      " 3   marital                     41188 non-null  object \n",
      " 4   education                   41188 non-null  object \n",
      " 5   credit_default              41188 non-null  object \n",
      " 6   mortgage                    41188 non-null  object \n",
      " 7   month                       41188 non-null  object \n",
      " 8   day                         41188 non-null  int64  \n",
      " 9   contact_duration            41188 non-null  int64  \n",
      " 10  number_contacts             41188 non-null  int64  \n",
      " 11  previous_campaign_contacts  41188 non-null  int64  \n",
      " 12  previous_outcome            41188 non-null  object \n",
      " 13  cons_price_idx              41188 non-null  float64\n",
      " 14  euribor_three_months        41188 non-null  float64\n",
      " 15  campaign_outcome            41188 non-null  object \n",
      "dtypes: float64(2), int64(6), object(8)\n",
      "memory usage: 5.0+ MB\n",
      "None\n"
     ]
    },
    {
     "name": "stderr",
     "output_type": "stream",
     "text": [
      "<ipython-input-2-4509f05872dc>:17: FutureWarning: The default value of regex will change from True to False in a future version. In addition, single character regular expressions will*not* be treated as literal strings when regex=True.\n",
      "  client[\"education\"] = client[\"education\"].str.replace(\".\", \"_\")\n",
      "<ipython-input-2-4509f05872dc>:17: SettingWithCopyWarning: \n",
      "A value is trying to be set on a copy of a slice from a DataFrame.\n",
      "Try using .loc[row_indexer,col_indexer] = value instead\n",
      "\n",
      "See the caveats in the documentation: https://pandas.pydata.org/pandas-docs/stable/user_guide/indexing.html#returning-a-view-versus-a-copy\n",
      "  client[\"education\"] = client[\"education\"].str.replace(\".\", \"_\")\n",
      "<ipython-input-2-4509f05872dc>:18: SettingWithCopyWarning: \n",
      "A value is trying to be set on a copy of a slice from a DataFrame.\n",
      "Try using .loc[row_indexer,col_indexer] = value instead\n",
      "\n",
      "See the caveats in the documentation: https://pandas.pydata.org/pandas-docs/stable/user_guide/indexing.html#returning-a-view-versus-a-copy\n",
      "  client[\"education\"] = client[\"education\"].replace(\"unknown\", np.NaN)\n",
      "<ipython-input-2-4509f05872dc>:21: FutureWarning: The default value of regex will change from True to False in a future version. In addition, single character regular expressions will*not* be treated as literal strings when regex=True.\n",
      "  client[\"job\"] = client[\"job\"].str.replace(\".\", \"\")\n",
      "<ipython-input-2-4509f05872dc>:21: SettingWithCopyWarning: \n",
      "A value is trying to be set on a copy of a slice from a DataFrame.\n",
      "Try using .loc[row_indexer,col_indexer] = value instead\n",
      "\n",
      "See the caveats in the documentation: https://pandas.pydata.org/pandas-docs/stable/user_guide/indexing.html#returning-a-view-versus-a-copy\n",
      "  client[\"job\"] = client[\"job\"].str.replace(\".\", \"\")\n",
      "<ipython-input-2-4509f05872dc>:25: SettingWithCopyWarning: \n",
      "A value is trying to be set on a copy of a slice from a DataFrame.\n",
      "Try using .loc[row_indexer,col_indexer] = value instead\n",
      "\n",
      "See the caveats in the documentation: https://pandas.pydata.org/pandas-docs/stable/user_guide/indexing.html#returning-a-view-versus-a-copy\n",
      "  client[col] = client[col].astype(bool)\n",
      "<ipython-input-2-4509f05872dc>:29: SettingWithCopyWarning: \n",
      "A value is trying to be set on a copy of a slice from a DataFrame.\n",
      "Try using .loc[row_indexer,col_indexer] = value instead\n",
      "\n",
      "See the caveats in the documentation: https://pandas.pydata.org/pandas-docs/stable/user_guide/indexing.html#returning-a-view-versus-a-copy\n",
      "  campaign[\"campaign_outcome\"] = campaign[\"campaign_outcome\"].map({\"yes\": 1,\n",
      "<ipython-input-2-4509f05872dc>:33: SettingWithCopyWarning: \n",
      "A value is trying to be set on a copy of a slice from a DataFrame.\n",
      "Try using .loc[row_indexer,col_indexer] = value instead\n",
      "\n",
      "See the caveats in the documentation: https://pandas.pydata.org/pandas-docs/stable/user_guide/indexing.html#returning-a-view-versus-a-copy\n",
      "  campaign[\"previous_outcome\"] = campaign[\"previous_outcome\"].map({\"success\": 1,\n",
      "<ipython-input-2-4509f05872dc>:38: SettingWithCopyWarning: \n",
      "A value is trying to be set on a copy of a slice from a DataFrame.\n",
      "Try using .loc[row_indexer,col_indexer] = value instead\n",
      "\n",
      "See the caveats in the documentation: https://pandas.pydata.org/pandas-docs/stable/user_guide/indexing.html#returning-a-view-versus-a-copy\n",
      "  campaign[\"month\"] = campaign[\"month\"].str.capitalize()\n",
      "<ipython-input-2-4509f05872dc>:41: SettingWithCopyWarning: \n",
      "A value is trying to be set on a copy of a slice from a DataFrame.\n",
      "Try using .loc[row_indexer,col_indexer] = value instead\n",
      "\n",
      "See the caveats in the documentation: https://pandas.pydata.org/pandas-docs/stable/user_guide/indexing.html#returning-a-view-versus-a-copy\n",
      "  campaign[\"year\"] = \"2022\"\n",
      "<ipython-input-2-4509f05872dc>:44: SettingWithCopyWarning: \n",
      "A value is trying to be set on a copy of a slice from a DataFrame.\n",
      "Try using .loc[row_indexer,col_indexer] = value instead\n",
      "\n",
      "See the caveats in the documentation: https://pandas.pydata.org/pandas-docs/stable/user_guide/indexing.html#returning-a-view-versus-a-copy\n",
      "  campaign[\"day\"] = campaign[\"day\"].astype(str)\n",
      "<ipython-input-2-4509f05872dc>:47: SettingWithCopyWarning: \n",
      "A value is trying to be set on a copy of a slice from a DataFrame.\n",
      "Try using .loc[row_indexer,col_indexer] = value instead\n",
      "\n",
      "See the caveats in the documentation: https://pandas.pydata.org/pandas-docs/stable/user_guide/indexing.html#returning-a-view-versus-a-copy\n",
      "  campaign[\"last_contact_date\"] = campaign[\"year\"] + \"-\" + campaign[\"month\"] + \"-\" + campaign[\"day\"]\n",
      "<ipython-input-2-4509f05872dc>:50: SettingWithCopyWarning: \n",
      "A value is trying to be set on a copy of a slice from a DataFrame.\n",
      "Try using .loc[row_indexer,col_indexer] = value instead\n",
      "\n",
      "See the caveats in the documentation: https://pandas.pydata.org/pandas-docs/stable/user_guide/indexing.html#returning-a-view-versus-a-copy\n",
      "  campaign[\"last_contact_date\"] = pd.to_datetime(campaign[\"last_contact_date\"],\n",
      "<ipython-input-2-4509f05872dc>:55: SettingWithCopyWarning: \n",
      "A value is trying to be set on a copy of a slice from a DataFrame.\n",
      "Try using .loc[row_indexer,col_indexer] = value instead\n",
      "\n",
      "See the caveats in the documentation: https://pandas.pydata.org/pandas-docs/stable/user_guide/indexing.html#returning-a-view-versus-a-copy\n",
      "  campaign[col] = campaign[col].astype(bool)\n",
      "/Users/latabidary/opt/anaconda3/lib/python3.8/site-packages/pandas/core/frame.py:4308: SettingWithCopyWarning: \n",
      "A value is trying to be set on a copy of a slice from a DataFrame\n",
      "\n",
      "See the caveats in the documentation: https://pandas.pydata.org/pandas-docs/stable/user_guide/indexing.html#returning-a-view-versus-a-copy\n",
      "  return super().drop(\n"
     ]
    }
   ],
   "source": [
    "import pandas as pd\n",
    "import numpy as np\n",
    "\n",
    "# Read in csv\n",
    "df = pd.read_csv('bank_marketing.csv')\n",
    "print(df.info())\n",
    "\n",
    "# Split into the three tables\n",
    "client = df[[\"client_id\", \"age\", \"job\", \"marital\", \n",
    "                    \"education\", \"credit_default\", \"mortgage\"]]\n",
    "campaign = df[[\"client_id\", \"number_contacts\", \"month\", \"day\", \n",
    "               \"contact_duration\", \"previous_campaign_contacts\", \"previous_outcome\", \"campaign_outcome\"]]\n",
    "economics = df[[\"client_id\", \"cons_price_idx\", \"euribor_three_months\"]]\n",
    "\n",
    "## Editing the client dataset\n",
    "# Clean education column\n",
    "client[\"education\"] = client[\"education\"].str.replace(\".\", \"_\")\n",
    "client[\"education\"] = client[\"education\"].replace(\"unknown\", np.NaN)\n",
    "\n",
    "# Clean job column\n",
    "client[\"job\"] = client[\"job\"].str.replace(\".\", \"\")\n",
    "\n",
    "# Convert columns to bool data type\n",
    "for col in [\"credit_default\", \"mortgage\"]:\n",
    "    client[col] = client[col].astype(bool)\n",
    "\n",
    "# Editing the campaign dataset\n",
    "# Change campaign_outcome to binary values\n",
    "campaign[\"campaign_outcome\"] = campaign[\"campaign_outcome\"].map({\"yes\": 1, \n",
    "                                                                 \"no\": 0})\n",
    "\n",
    "# Convert poutcome to binary values\n",
    "campaign[\"previous_outcome\"] = campaign[\"previous_outcome\"].map({\"success\": 1, \n",
    "                                                                 \"failure\": 0,\n",
    "                                                                 \"nonexistent\": 0})\n",
    "\n",
    "# Capitalize month and day columns\n",
    "campaign[\"month\"] = campaign[\"month\"].str.capitalize()\n",
    "\n",
    "# Add year column\n",
    "campaign[\"year\"] = \"2022\"\n",
    "\n",
    "# Convert day to string\n",
    "campaign[\"day\"] = campaign[\"day\"].astype(str)\n",
    "\n",
    "# Add last_contact_date column\n",
    "campaign[\"last_contact_date\"] = campaign[\"year\"] + \"-\" + campaign[\"month\"] + \"-\" + campaign[\"day\"]\n",
    "\n",
    "# Convert to datetime\n",
    "campaign[\"last_contact_date\"] = pd.to_datetime(campaign[\"last_contact_date\"], \n",
    "                                               format=\"%Y-%b-%d\")\n",
    "\n",
    "# Convert outcome columns to bool\n",
    "for col in [\"campaign_outcome\", \"previous_outcome\"]:\n",
    "    campaign[col] = campaign[col].astype(bool)\n",
    "\n",
    "# Drop unneccessary columns\n",
    "campaign.drop(columns=[\"month\", \"day\", \"year\"], inplace=True)\n",
    "\n",
    "# Save tables to individual csv files\n",
    "client.to_csv(\"client.csv\", index=False)\n",
    "campaign.to_csv(\"campaign.csv\", index=False)\n",
    "economics.to_csv(\"economics.csv\", index=False)\n"
   ]
  },
  {
   "cell_type": "code",
   "execution_count": 9,
   "id": "4721b467",
   "metadata": {},
   "outputs": [
    {
     "name": "stdout",
     "output_type": "stream",
     "text": [
      "   client_id  number_contacts  contact_duration  previous_campaign_contacts  \\\n",
      "0          0                1               261                           0   \n",
      "1          1                1               149                           0   \n",
      "2          2                1               226                           0   \n",
      "3          3                1               151                           0   \n",
      "4          4                1               307                           0   \n",
      "\n",
      "   previous_outcome  campaign_outcome last_contact_date  \n",
      "0             False             False        2022-05-13  \n",
      "1             False             False        2022-05-19  \n",
      "2             False             False        2022-05-23  \n",
      "3             False             False        2022-05-27  \n",
      "4             False             False        2022-05-03  \n"
     ]
    }
   ],
   "source": [
    "md = pd.read_csv('campaign.csv')\n",
    "print(md.head())"
   ]
  },
  {
   "cell_type": "code",
   "execution_count": 6,
   "id": "e1d3feb3",
   "metadata": {},
   "outputs": [
    {
     "name": "stdout",
     "output_type": "stream",
     "text": [
      "   client_id  age        job  marital    education  credit_default  mortgage\n",
      "0          0   56  housemaid  married     basic_4y            True      True\n",
      "1          1   57   services  married  high_school            True      True\n",
      "2          2   37   services  married  high_school            True      True\n",
      "3          3   40      admin  married     basic_6y            True      True\n",
      "4          4   56   services  married  high_school            True      True\n"
     ]
    }
   ],
   "source": [
    "md = pd.read_csv('client.csv')\n",
    "print(md.head())"
   ]
  },
  {
   "cell_type": "code",
   "execution_count": 7,
   "id": "a071021a",
   "metadata": {},
   "outputs": [
    {
     "name": "stdout",
     "output_type": "stream",
     "text": [
      "   client_id  cons_price_idx  euribor_three_months\n",
      "0          0          93.994                 4.857\n",
      "1          1          93.994                 4.857\n",
      "2          2          93.994                 4.857\n",
      "3          3          93.994                 4.857\n",
      "4          4          93.994                 4.857\n"
     ]
    }
   ],
   "source": [
    "md = pd.read_csv('economics.csv')\n",
    "print(md.head())"
   ]
  },
  {
   "cell_type": "code",
   "execution_count": 8,
   "id": "499434c8",
   "metadata": {},
   "outputs": [
    {
     "name": "stdout",
     "output_type": "stream",
     "text": [
      "<class 'pandas.core.frame.DataFrame'>\n",
      "RangeIndex: 41188 entries, 0 to 41187\n",
      "Data columns (total 7 columns):\n",
      " #   Column                      Non-Null Count  Dtype \n",
      "---  ------                      --------------  ----- \n",
      " 0   client_id                   41188 non-null  int64 \n",
      " 1   number_contacts             41188 non-null  int64 \n",
      " 2   contact_duration            41188 non-null  int64 \n",
      " 3   previous_campaign_contacts  41188 non-null  int64 \n",
      " 4   previous_outcome            41188 non-null  bool  \n",
      " 5   campaign_outcome            41188 non-null  bool  \n",
      " 6   last_contact_date           41188 non-null  object\n",
      "dtypes: bool(2), int64(4), object(1)\n",
      "memory usage: 1.6+ MB\n",
      "None\n"
     ]
    }
   ],
   "source": [
    "md = pd.read_csv('campaign.csv')\n",
    "print(md.info())"
   ]
  },
  {
   "cell_type": "code",
   "execution_count": null,
   "id": "69739cbb",
   "metadata": {},
   "outputs": [],
   "source": []
  }
 ],
 "metadata": {
  "kernelspec": {
   "display_name": "Python 3",
   "language": "python",
   "name": "python3"
  },
  "language_info": {
   "codemirror_mode": {
    "name": "ipython",
    "version": 3
   },
   "file_extension": ".py",
   "mimetype": "text/x-python",
   "name": "python",
   "nbconvert_exporter": "python",
   "pygments_lexer": "ipython3",
   "version": "3.8.8"
  }
 },
 "nbformat": 4,
 "nbformat_minor": 5
}
